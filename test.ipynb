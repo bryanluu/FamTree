{
 "cells": [
  {
   "cell_type": "code",
   "execution_count": 1,
   "metadata": {},
   "outputs": [],
   "source": [
    "import numpy as np\n",
    "import pandas as pd\n",
    "import igraph as ig"
   ]
  },
  {
   "cell_type": "code",
   "execution_count": 2,
   "metadata": {},
   "outputs": [
    {
     "data": {
      "text/html": [
       "<div>\n",
       "<style scoped>\n",
       "    .dataframe tbody tr th:only-of-type {\n",
       "        vertical-align: middle;\n",
       "    }\n",
       "\n",
       "    .dataframe tbody tr th {\n",
       "        vertical-align: top;\n",
       "    }\n",
       "\n",
       "    .dataframe thead th {\n",
       "        text-align: right;\n",
       "    }\n",
       "</style>\n",
       "<table border=\"1\" class=\"dataframe\">\n",
       "  <thead>\n",
       "    <tr style=\"text-align: right;\">\n",
       "      <th></th>\n",
       "      <th>Full Name</th>\n",
       "      <th>Nickname</th>\n",
       "      <th>Father</th>\n",
       "      <th>Mother</th>\n",
       "      <th>Spouse</th>\n",
       "      <th>Children</th>\n",
       "    </tr>\n",
       "  </thead>\n",
       "  <tbody>\n",
       "    <tr>\n",
       "      <th>0</th>\n",
       "      <td>Mother</td>\n",
       "      <td>Mom</td>\n",
       "      <td>Maternal Grandfather</td>\n",
       "      <td>Maternal Grandmother</td>\n",
       "      <td>Father</td>\n",
       "      <td>Me, Brother, Sister</td>\n",
       "    </tr>\n",
       "    <tr>\n",
       "      <th>1</th>\n",
       "      <td>Father</td>\n",
       "      <td>Dad</td>\n",
       "      <td>Paternal Grandfather</td>\n",
       "      <td>Paternal Grandmother</td>\n",
       "      <td>Mother</td>\n",
       "      <td>Me, Brother, Sister</td>\n",
       "    </tr>\n",
       "    <tr>\n",
       "      <th>2</th>\n",
       "      <td>Me</td>\n",
       "      <td></td>\n",
       "      <td>Father</td>\n",
       "      <td>Mother</td>\n",
       "      <td></td>\n",
       "      <td></td>\n",
       "    </tr>\n",
       "    <tr>\n",
       "      <th>3</th>\n",
       "      <td>Sister</td>\n",
       "      <td>Sis</td>\n",
       "      <td>Father</td>\n",
       "      <td>Mother</td>\n",
       "      <td></td>\n",
       "      <td></td>\n",
       "    </tr>\n",
       "    <tr>\n",
       "      <th>4</th>\n",
       "      <td>Brother</td>\n",
       "      <td>Bro</td>\n",
       "      <td>Father</td>\n",
       "      <td>Mother</td>\n",
       "      <td></td>\n",
       "      <td></td>\n",
       "    </tr>\n",
       "    <tr>\n",
       "      <th>5</th>\n",
       "      <td>Paternal Grandfather</td>\n",
       "      <td>PGP</td>\n",
       "      <td></td>\n",
       "      <td></td>\n",
       "      <td>Paternal Grandmother</td>\n",
       "      <td>Father, Ben</td>\n",
       "    </tr>\n",
       "    <tr>\n",
       "      <th>6</th>\n",
       "      <td>Paternal Grandmother</td>\n",
       "      <td>PGM</td>\n",
       "      <td></td>\n",
       "      <td></td>\n",
       "      <td>Paternal Grandfather</td>\n",
       "      <td>Father, Ben</td>\n",
       "    </tr>\n",
       "    <tr>\n",
       "      <th>7</th>\n",
       "      <td>Maternal Grandfather</td>\n",
       "      <td>MGP</td>\n",
       "      <td></td>\n",
       "      <td></td>\n",
       "      <td>Maternal Grandmother</td>\n",
       "      <td>Mother, Sue</td>\n",
       "    </tr>\n",
       "    <tr>\n",
       "      <th>8</th>\n",
       "      <td>Maternal Grandmother</td>\n",
       "      <td>MGM</td>\n",
       "      <td></td>\n",
       "      <td></td>\n",
       "      <td>Maternal Grandfather</td>\n",
       "      <td>Mother, Sue</td>\n",
       "    </tr>\n",
       "    <tr>\n",
       "      <th>9</th>\n",
       "      <td>Ben</td>\n",
       "      <td></td>\n",
       "      <td>Paternal Grandfather</td>\n",
       "      <td>Paternal Grandmother</td>\n",
       "      <td></td>\n",
       "      <td></td>\n",
       "    </tr>\n",
       "    <tr>\n",
       "      <th>10</th>\n",
       "      <td>Sue</td>\n",
       "      <td></td>\n",
       "      <td>Maternal Grandfather</td>\n",
       "      <td>Maternal Grandmother</td>\n",
       "      <td>Peter</td>\n",
       "      <td>Cousin</td>\n",
       "    </tr>\n",
       "    <tr>\n",
       "      <th>11</th>\n",
       "      <td>Peter</td>\n",
       "      <td></td>\n",
       "      <td></td>\n",
       "      <td></td>\n",
       "      <td>Sue</td>\n",
       "      <td>Cousin</td>\n",
       "    </tr>\n",
       "    <tr>\n",
       "      <th>12</th>\n",
       "      <td>Cousin</td>\n",
       "      <td>Charlie</td>\n",
       "      <td>Peter</td>\n",
       "      <td>Sue</td>\n",
       "      <td></td>\n",
       "      <td></td>\n",
       "    </tr>\n",
       "  </tbody>\n",
       "</table>\n",
       "</div>"
      ],
      "text/plain": [
       "               Full Name Nickname                Father                Mother  \\\n",
       "0                 Mother      Mom  Maternal Grandfather  Maternal Grandmother   \n",
       "1                 Father      Dad  Paternal Grandfather  Paternal Grandmother   \n",
       "2                     Me                         Father                Mother   \n",
       "3                 Sister      Sis                Father                Mother   \n",
       "4                Brother      Bro                Father                Mother   \n",
       "5   Paternal Grandfather      PGP                                               \n",
       "6   Paternal Grandmother      PGM                                               \n",
       "7   Maternal Grandfather      MGP                                               \n",
       "8   Maternal Grandmother      MGM                                               \n",
       "9                    Ben           Paternal Grandfather  Paternal Grandmother   \n",
       "10                   Sue           Maternal Grandfather  Maternal Grandmother   \n",
       "11                 Peter                                                        \n",
       "12                Cousin  Charlie                 Peter                   Sue   \n",
       "\n",
       "                  Spouse             Children  \n",
       "0                 Father  Me, Brother, Sister  \n",
       "1                 Mother  Me, Brother, Sister  \n",
       "2                                              \n",
       "3                                              \n",
       "4                                              \n",
       "5   Paternal Grandmother          Father, Ben  \n",
       "6   Paternal Grandfather          Father, Ben  \n",
       "7   Maternal Grandmother          Mother, Sue  \n",
       "8   Maternal Grandfather          Mother, Sue  \n",
       "9                                              \n",
       "10                 Peter               Cousin  \n",
       "11                   Sue               Cousin  \n",
       "12                                             "
      ]
     },
     "execution_count": 2,
     "metadata": {},
     "output_type": "execute_result"
    }
   ],
   "source": [
    "df = pd.read_csv(\"data/test.csv\")\n",
    "\n",
    "# convert to strings\n",
    "df = df.astype(str)\n",
    "# replace nans with blank string\n",
    "df = df.applymap(lambda s: \"\" if s == \"nan\" else s)\n",
    "# remove newlines\n",
    "df = df.applymap(lambda s: s.rstrip('\\n'))\n",
    "\n",
    "# display data\n",
    "df"
   ]
  },
  {
   "cell_type": "code",
   "execution_count": 3,
   "metadata": {},
   "outputs": [],
   "source": [
    "# number of vertices\n",
    "V = len(df)\n",
    "# create index dictionary\n",
    "di = dict()\n",
    "for i in range(V):\n",
    "    di[df[\"Full Name\"][i]] = i\n",
    "di[\"\"] = -1\n",
    "\n",
    "def getChildren(v):\n",
    "    return list(map(lambda s: s.strip(), df.loc[v, \"Children\"].split(\",\")))\n",
    "\n",
    "# create edges\n",
    "E = [(source, di[dest]) for source in range(V) \\\n",
    "        for dest in list(map(lambda s: s.strip(), df.loc[source, \"Children\"].split(\",\")))]\n",
    "\n",
    "# create graph\n",
    "G = ig.Graph(directed = True)\n",
    "G.add_vertices(V)\n",
    "G.add_edges([e for e in E if e[1] != -1])\n",
    "\n",
    "# visual styles\n",
    "vs = {}\n",
    "vs[\"vertex_label\"] = df[\"Full Name\"]\n",
    "vs[\"layout\"] = G.layout(\"rt\")"
   ]
  },
  {
   "cell_type": "code",
   "execution_count": 50,
   "metadata": {},
   "outputs": [],
   "source": [
    "children = G.degree(mode=\"out\")\n",
    "parents = G.degree(mode=\"in\")\n",
    "\n",
    "def height(node):\n",
    "    if children[node] == 0:\n",
    "        return -1\n",
    "    else:\n",
    "        return max(height(e[1]) for e in E if e[0] == node) + 1\n",
    "    \n",
    "def levelHelper(curr, node, level):\n",
    "    if curr == -1:\n",
    "        return 0\n",
    "    \n",
    "    if curr == node:\n",
    "        return level\n",
    "    \n",
    "    downlevel = 0\n",
    "    for i in getChildren(curr):\n",
    "            child = di[i]\n",
    "            downlevel = levelHelper(child, node, level+1)\n",
    "            if downlevel != 0:\n",
    "                return downlevel\n",
    "    return downlevel\n",
    "    \n",
    "def level(node, ref):\n",
    "    return levelHelper(ref, node, 1)"
   ]
  },
  {
   "cell_type": "code",
   "execution_count": 5,
   "metadata": {},
   "outputs": [],
   "source": [
    "def topologicalSortUtil(v, visited, stack):\n",
    "    if v == -1:\n",
    "        return\n",
    "    \n",
    "    # mark node v as visited\n",
    "    visited[v] = True\n",
    "    \n",
    "    # recurse for adjacent nodes\n",
    "    for name in getChildren(v):\n",
    "        child = di[name]\n",
    "        if not visited[child]:\n",
    "            topologicalSortUtil(child, visited, stack)\n",
    "    \n",
    "    # push vertex to stack to store result\n",
    "    stack.append(v)\n",
    "    \n",
    "def topologicalSort():\n",
    "    visited = [False]*V\n",
    "    stack = []\n",
    "    \n",
    "    for i in range(V):\n",
    "        if not visited[i]:\n",
    "            topologicalSortUtil(i, visited, stack)\n",
    "            \n",
    "    return stack"
   ]
  },
  {
   "cell_type": "code",
   "execution_count": 6,
   "metadata": {},
   "outputs": [],
   "source": [
    "def longestPath(v):\n",
    "    topsort = topologicalSort()\n",
    "    dist = [-1]*V\n",
    "    dist[v] = 0\n",
    "    \n",
    "    while(len(topsort) != 0):\n",
    "        u = topsort.pop()\n",
    "        if dist[u] != -1:\n",
    "            for name in getChildren(u):\n",
    "                child = di[name]\n",
    "                if dist[child] < dist[u] + 1:\n",
    "                    dist[child] = dist[u] + 1\n",
    "    return dist"
   ]
  },
  {
   "cell_type": "code",
   "execution_count": 11,
   "metadata": {},
   "outputs": [],
   "source": [
    "lengths = [max(longestPath(i)) for i in range(V)]\n",
    "maxlen = max(lengths)"
   ]
  },
  {
   "cell_type": "code",
   "execution_count": 42,
   "metadata": {},
   "outputs": [],
   "source": [
    "# Returns greatest ancestors along paternal/maternal lines along with distance\n",
    "def getGreatestAncestors(v):\n",
    "    paternal = maternal = 0\n",
    "    p = m = v\n",
    "    while di[df.loc[p, \"Father\"]] != -1:\n",
    "        paternal += 1\n",
    "        p = di[df.loc[p, \"Father\"]]\n",
    "    while di[df.loc[m, \"Mother\"]] != -1:\n",
    "        maternal += 1\n",
    "        m = di[df.loc[m, \"Mother\"]]\n",
    "    return {\"Paternal\": (p, paternal), \"Maternal\": (m, maternal)}\n",
    "\n",
    "# Returns furthest ancestor along paternal/maternal lines\n",
    "def getGreatestAncestor(v):\n",
    "    ga = getGreatestAncestors(v)\n",
    "    maxline = max(ga, key=lambda k: ga[k][1])\n",
    "    return ga[maxline][0]"
   ]
  },
  {
   "cell_type": "code",
   "execution_count": 44,
   "metadata": {},
   "outputs": [
    {
     "data": {
      "text/plain": [
       "[7, 5, 5, 5, 5, 5, 6, 7, 8, 5, 7, 11, 8]"
      ]
     },
     "execution_count": 44,
     "metadata": {},
     "output_type": "execute_result"
    }
   ],
   "source": [
    "[getGreatestAncestor(v) for v in range(V)]"
   ]
  },
  {
   "cell_type": "code",
   "execution_count": 52,
   "metadata": {},
   "outputs": [
    {
     "name": "stdout",
     "output_type": "stream",
     "text": [
      "[2, 2, 3, 3, 3, 1, 1, 1, 1, 2, 2, 1, 3]\n"
     ]
    }
   ],
   "source": [
    "levels = [level(v, getGreatestAncestor(v)) for v in range(V)]\n",
    "print(levels)"
   ]
  },
  {
   "cell_type": "code",
   "execution_count": 31,
   "metadata": {},
   "outputs": [
    {
     "data": {
      "text/plain": [
       "[2, 2, 1, 1, 1, 3, 3, 3, 3, 1, 2, 2, 1]"
      ]
     },
     "execution_count": 31,
     "metadata": {},
     "output_type": "execute_result"
    }
   ],
   "source": [
    "lengths"
   ]
  },
  {
   "cell_type": "code",
   "execution_count": 32,
   "metadata": {},
   "outputs": [
    {
     "data": {
      "text/plain": [
       "0                   Mother\n",
       "1                   Father\n",
       "2                       Me\n",
       "3                   Sister\n",
       "4                  Brother\n",
       "5     Paternal Grandfather\n",
       "6     Paternal Grandmother\n",
       "7     Maternal Grandfather\n",
       "8     Maternal Grandmother\n",
       "9                      Ben\n",
       "10                     Sue\n",
       "11                   Peter\n",
       "12                  Cousin\n",
       "Name: Full Name, dtype: object"
      ]
     },
     "execution_count": 32,
     "metadata": {},
     "output_type": "execute_result"
    }
   ],
   "source": [
    "df.loc[:, \"Full Name\"]"
   ]
  },
  {
   "cell_type": "code",
   "execution_count": 51,
   "metadata": {},
   "outputs": [
    {
     "data": {
      "text/plain": [
       "[2, 2, 2, 2, 2, 0, 0, 0, 0, 2, 2, 0, 2]"
      ]
     },
     "execution_count": 51,
     "metadata": {},
     "output_type": "execute_result"
    }
   ],
   "source": [
    "parents"
   ]
  },
  {
   "cell_type": "code",
   "execution_count": null,
   "metadata": {},
   "outputs": [],
   "source": []
  }
 ],
 "metadata": {
  "kernelspec": {
   "display_name": "Tree_Python",
   "language": "python",
   "name": "tree_python"
  },
  "language_info": {
   "codemirror_mode": {
    "name": "ipython",
    "version": 3
   },
   "file_extension": ".py",
   "mimetype": "text/x-python",
   "name": "python",
   "nbconvert_exporter": "python",
   "pygments_lexer": "ipython3",
   "version": "3.8.0"
  }
 },
 "nbformat": 4,
 "nbformat_minor": 2
}
